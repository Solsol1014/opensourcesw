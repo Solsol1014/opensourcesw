{
 "cells": [
  {
   "cell_type": "code",
   "execution_count": 1,
   "metadata": {},
   "outputs": [],
   "source": [
    "import csv"
   ]
  },
  {
   "cell_type": "code",
   "execution_count": 43,
   "metadata": {},
   "outputs": [],
   "source": [
    "def main():\n",
    "    f = open('2022_Seoul_Temp.csv', 'r', encoding='cp949')\n",
    "    data = csv.reader(f)\n",
    "\n",
    "    header = next(data)\n",
    "    #print(header)\n",
    "\n",
    "    avertempsum = 0\n",
    "    avlowtempsum = 0\n",
    "    avhightempsum = 0\n",
    "    length = 0\n",
    "\n",
    "    for row in data:\n",
    "        if len(row)<5:\n",
    "            break\n",
    "        else:\n",
    "            if row[2]=='' or row[3]=='' or row[4]=='':\n",
    "                pass\n",
    "            else:\n",
    "                length += 1\n",
    "                avertempsum += float(row[2])\n",
    "                avlowtempsum += float(row[3])\n",
    "                avhightempsum += float(row[4])\n",
    "\n",
    "    print(\"*** Annual Temperature Report for Seoul in 2022 ***\")\n",
    "    print(\"Average Temperature: {0:0.2f} Celsius\".format(avertempsum/length))\n",
    "    print(\"Average Minimum Temperature: {0:0.2f} Celsius\".format(avlowtempsum/length))\n",
    "    print(\"Average Maximum Temperatrue: {0:0.2f} Celsius\".format(avhightempsum/length))\n",
    "\n",
    "    f.close()"
   ]
  },
  {
   "cell_type": "code",
   "execution_count": 44,
   "metadata": {},
   "outputs": [
    {
     "name": "stdout",
     "output_type": "stream",
     "text": [
      "*** Annual Temperature Report for Seoul in 2022 ***\n",
      "Average Temperature: 13.26 Celsius\n",
      "Average Minimum Temperature: 9.21 Celsius\n",
      "Average Maximum Temperatrue: 18.05 Celsius\n"
     ]
    }
   ],
   "source": [
    "if __name__=='__main__':\n",
    "    main()"
   ]
  }
 ],
 "metadata": {
  "kernelspec": {
   "display_name": "Python 3",
   "language": "python",
   "name": "python3"
  },
  "language_info": {
   "codemirror_mode": {
    "name": "ipython",
    "version": 3
   },
   "file_extension": ".py",
   "mimetype": "text/x-python",
   "name": "python",
   "nbconvert_exporter": "python",
   "pygments_lexer": "ipython3",
   "version": "3.11.2"
  },
  "orig_nbformat": 4
 },
 "nbformat": 4,
 "nbformat_minor": 2
}
