{
 "cells": [
  {
   "cell_type": "code",
   "execution_count": 1,
   "metadata": {},
   "outputs": [],
   "source": [
    "import csv"
   ]
  },
  {
   "cell_type": "code",
   "execution_count": 12,
   "metadata": {},
   "outputs": [],
   "source": [
    "def main():\n",
    "    f = open('202303_Seoul_Subway.csv', 'r')\n",
    "    data = csv.reader(f)\n",
    "\n",
    "    header = next(data)\n",
    "\n",
    "    lines = {}\n",
    "\n",
    "    for row in data:\n",
    "        if row[1]=='1호선' or row[1]=='2호선' or row[1]=='3호선' or row[1]=='4호선':\n",
    "            if row[1] in lines:\n",
    "                dic = lines[row[1]]\n",
    "                dic[row[3]] = int(row[4].replace(\",\", \"\"))+int(row[5].replace(\",\", \"\"))\n",
    "                lines[row[1]] = dic\n",
    "            else:\n",
    "                dic = {}\n",
    "                dic[row[3]] = int(row[4].replace(\",\", \"\"))+int(row[5].replace(\",\", \"\"))\n",
    "                lines[row[1]] = dic\n",
    "\n",
    "    #print(lines)\n",
    "\n",
    "    print(\"*** Subway Report for Seoul on March 2023 ***\")\n",
    "\n",
    "    for line in lines:\n",
    "        print(\"{}:\".format(line))\n",
    "        maxstation = ''\n",
    "        minstation = ''\n",
    "        dic = lines[line]\n",
    "        for k in dic:\n",
    "            if maxstation=='':\n",
    "                maxstation = k\n",
    "            else:\n",
    "                if dic[k]>dic[maxstation]:\n",
    "                    maxstation = k\n",
    "\n",
    "            if minstation=='':\n",
    "                minstation = k\n",
    "            else:\n",
    "                if dic[k]<dic[minstation]:\n",
    "                    minstation = k\n",
    "\n",
    "        print(\"Busiest Station: {} ({})\".format(maxstation, dic[maxstation]))\n",
    "        print(\"Least used Station: {} ({})\".format(minstation, dic[minstation]))\n",
    "\n",
    "    f.close()"
   ]
  },
  {
   "cell_type": "code",
   "execution_count": 13,
   "metadata": {},
   "outputs": [
    {
     "name": "stdout",
     "output_type": "stream",
     "text": [
      "*** Subway Report for Seoul on March 2023 ***\n",
      "1호선:\n",
      "Busiest Station: 서울역 (3084227)\n",
      "Least used Station: 동묘앞 (658566)\n",
      "2호선:\n",
      "Busiest Station: 강남 (4690366)\n",
      "Least used Station: 도림천 (80084)\n",
      "3호선:\n",
      "Busiest Station: 고속터미널 (2886887)\n",
      "Least used Station: 충무로 (48)\n",
      "4호선:\n",
      "Busiest Station: 혜화 (2286709)\n",
      "Least used Station: 남태령 (79916)\n"
     ]
    }
   ],
   "source": [
    "if __name__=='__main__':\n",
    "    main()"
   ]
  }
 ],
 "metadata": {
  "kernelspec": {
   "display_name": "Python 3",
   "language": "python",
   "name": "python3"
  },
  "language_info": {
   "codemirror_mode": {
    "name": "ipython",
    "version": 3
   },
   "file_extension": ".py",
   "mimetype": "text/x-python",
   "name": "python",
   "nbconvert_exporter": "python",
   "pygments_lexer": "ipython3",
   "version": "3.11.2"
  },
  "orig_nbformat": 4
 },
 "nbformat": 4,
 "nbformat_minor": 2
}
