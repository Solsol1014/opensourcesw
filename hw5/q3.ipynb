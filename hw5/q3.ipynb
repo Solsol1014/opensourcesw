{
 "cells": [
  {
   "cell_type": "code",
   "execution_count": 1,
   "metadata": {},
   "outputs": [],
   "source": [
    "import csv"
   ]
  },
  {
   "cell_type": "code",
   "execution_count": 9,
   "metadata": {},
   "outputs": [],
   "source": [
    "def main():\n",
    "    f = open('202303_Seoul_Subway.csv', 'r')\n",
    "    data = csv.reader(f)\n",
    "\n",
    "    header = next(data)\n",
    "\n",
    "    lines = {}\n",
    "\n",
    "    for row in data:\n",
    "        if row[1] in lines:\n",
    "            lines[row[1]] = lines[row[1]]+int(row[4].replace(\",\", \"\"))+int(row[5].replace(\",\", \"\"))\n",
    "        else:\n",
    "            lines[row[1]] = int(row[4].replace(\",\", \"\"))+int(row[5].replace(\",\", \"\"))\n",
    "\n",
    "    #print(lines)\n",
    "\n",
    "    firstmax = ''\n",
    "    secmax = ''\n",
    "    firstmin = ''\n",
    "    secmin = ''\n",
    "\n",
    "    for k in lines:\n",
    "        if k=='1호선' or k=='2호선' or k=='3호선' or k=='4호선' or k=='5호선' or k=='6호선' or k=='7호선' or k=='8호선' or k=='9호선':\n",
    "            if firstmax=='':\n",
    "                firstmax = k\n",
    "            else:\n",
    "                if lines[k]>lines[firstmax]:\n",
    "                    secmax = firstmax\n",
    "                    firstmax = k\n",
    "                else:\n",
    "                    if secmax=='':\n",
    "                        secmax = k\n",
    "                    else:\n",
    "                        if lines[k]>lines[secmax]:\n",
    "                            secmax = k\n",
    "\n",
    "            if firstmin=='':\n",
    "                firstmin = k\n",
    "            else:\n",
    "                if lines[k]<lines[firstmin]:\n",
    "                    secmin = firstmin\n",
    "                    firstmin = k\n",
    "                else:\n",
    "                    if secmin=='':\n",
    "                        secmin = k\n",
    "                    else:\n",
    "                        if lines[k]<lines[secmin]:\n",
    "                            secmin = k\n",
    "        \n",
    "        else:\n",
    "            continue\n",
    "\n",
    "    print(\"*** Subway Report for Seoul on March 2023 ***\")\n",
    "    print(\"1st Busiest Line: {} ({})\".format(firstmax, lines[firstmax]))\n",
    "    print(\"2nd Busiest Line: {} ({})\".format(secmax, lines[secmax]))\n",
    "    print(\"1st Least used Line: {} ({})\".format(firstmin, lines[firstmin]))\n",
    "    print(\"2nd Least used Line: {} ({})\".format(secmin, lines[secmin]))\n",
    "\n",
    "\n",
    "    f.close()"
   ]
  },
  {
   "cell_type": "code",
   "execution_count": 10,
   "metadata": {},
   "outputs": [
    {
     "name": "stdout",
     "output_type": "stream",
     "text": [
      "*** Subway Report for Seoul on March 2023 ***\n",
      "1st Busiest Line: 2호선 (85620512)\n",
      "2nd Busiest Line: 5호선 (39671990)\n",
      "1st Least used Line: 8호선 (11863928)\n",
      "2nd Least used Line: 1호선 (14705833)\n"
     ]
    }
   ],
   "source": [
    "if __name__=='__main__':\n",
    "    main()"
   ]
  }
 ],
 "metadata": {
  "kernelspec": {
   "display_name": "Python 3",
   "language": "python",
   "name": "python3"
  },
  "language_info": {
   "codemirror_mode": {
    "name": "ipython",
    "version": 3
   },
   "file_extension": ".py",
   "mimetype": "text/x-python",
   "name": "python",
   "nbconvert_exporter": "python",
   "pygments_lexer": "ipython3",
   "version": "3.11.2"
  },
  "orig_nbformat": 4
 },
 "nbformat": 4,
 "nbformat_minor": 2
}
