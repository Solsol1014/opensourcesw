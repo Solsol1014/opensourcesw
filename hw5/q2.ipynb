{
 "cells": [
  {
   "cell_type": "code",
   "execution_count": 1,
   "metadata": {},
   "outputs": [],
   "source": [
    "import csv"
   ]
  },
  {
   "cell_type": "code",
   "execution_count": 6,
   "metadata": {},
   "outputs": [],
   "source": [
    "def main():\n",
    "    f = open('2022_Seoul_Temp.csv', 'r', encoding='cp949')\n",
    "    data = csv.reader(f)\n",
    "\n",
    "    header = next(data)\n",
    "\n",
    "    first = next(data)\n",
    "    maxvari = float(first[4])-float(first[3])\n",
    "    maxvaridate = first[0].strip()\n",
    "    minvari = float(first[4])-float(first[3])\n",
    "    minvaridate = first[0].strip()\n",
    "\n",
    "    for row in data:\n",
    "        if len(row)<5:\n",
    "            break\n",
    "        else:\n",
    "            if row[2]=='' or row[3]=='' or row[4]=='':\n",
    "                pass\n",
    "            else:\n",
    "                vari = float(row[4])-float(row[3])\n",
    "                if vari>maxvari:\n",
    "                    maxvari = vari\n",
    "                    maxvaridate = row[0].strip()\n",
    "\n",
    "                if vari<minvari:\n",
    "                    minvari = vari\n",
    "                    minvaridate = row[0].strip()\n",
    "\n",
    "    print(\"*** Annual Temperature Report for Seoul in 2022\")\n",
    "    print(\"Day with the Largest Temperature Variation: {}\".format(maxvaridate))\n",
    "    print(\"Maximum Temperature Difference: {0:0.1f} Celsius\".format(maxvari))\n",
    "    print(\"Day with the Smallest Temperature Variation: {}\".format(minvaridate))\n",
    "    print(\"Minimum Temperature Difference: {0:0.1f} Celsius\".format(minvari))\n",
    "\n",
    "    f.close()"
   ]
  },
  {
   "cell_type": "code",
   "execution_count": 7,
   "metadata": {},
   "outputs": [
    {
     "name": "stdout",
     "output_type": "stream",
     "text": [
      "*** Annual Temperature Report for Seoul in 2022\n",
      "Day with the Largest Temperature Variation: 2022-11-29\n",
      "Maximum Temperature Difference: 16.6 Celsius\n",
      "Day with the Smallest Temperature Variation: 2022-06-29\n",
      "Minimum Temperature Difference: 1.7 Celsius\n"
     ]
    }
   ],
   "source": [
    "if __name__=='__main__':\n",
    "    main()"
   ]
  }
 ],
 "metadata": {
  "kernelspec": {
   "display_name": "Python 3",
   "language": "python",
   "name": "python3"
  },
  "language_info": {
   "codemirror_mode": {
    "name": "ipython",
    "version": 3
   },
   "file_extension": ".py",
   "mimetype": "text/x-python",
   "name": "python",
   "nbconvert_exporter": "python",
   "pygments_lexer": "ipython3",
   "version": "3.11.2"
  },
  "orig_nbformat": 4
 },
 "nbformat": 4,
 "nbformat_minor": 2
}
