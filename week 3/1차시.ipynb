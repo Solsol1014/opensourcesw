{
 "cells": [
  {
   "cell_type": "code",
   "execution_count": 3,
   "metadata": {},
   "outputs": [
    {
     "name": "stdout",
     "output_type": "stream",
     "text": [
      "y = 26.730000000000004\n"
     ]
    }
   ],
   "source": [
    "x = float(input(\"x = \"))\n",
    "print(\"y = {}\".format(3*x*x+5*x+3))"
   ]
  },
  {
   "cell_type": "code",
   "execution_count": 8,
   "metadata": {},
   "outputs": [
    {
     "name": "stdout",
     "output_type": "stream",
     "text": [
      "반지름 1.0인 원의 넓이는 3.14이고 둘레는 6.28입니다.\n"
     ]
    }
   ],
   "source": [
    "r = float(input(\"r = \"))\n",
    "\n",
    "print(\"반지름 {}인 원의 넓이는 {}이고 둘레는 {}입니다.\".format(r, r*r*3.14, r*2*3.14))"
   ]
  },
  {
   "cell_type": "code",
   "execution_count": 11,
   "metadata": {},
   "outputs": [
    {
     "name": "stdout",
     "output_type": "stream",
     "text": [
      "반지름 3.14인 원의 넓이는 30.959144000000002이고 둘레는 19.7192입니다.\n"
     ]
    }
   ],
   "source": [
    "instr = input()\n",
    "\n",
    "r = float(instr.split('=')[1].strip())\n",
    "\n",
    "print(\"반지름 {}인 원의 넓이는 {}이고 둘레는 {}입니다.\".format(r, r*r*3.14, r*2*3.14))"
   ]
  },
  {
   "cell_type": "code",
   "execution_count": 14,
   "metadata": {},
   "outputs": [
    {
     "name": "stdout",
     "output_type": "stream",
     "text": [
      "False\n"
     ]
    }
   ],
   "source": [
    "a = '3.14'\n",
    "print(a.isnumeric())"
   ]
  },
  {
   "cell_type": "code",
   "execution_count": 24,
   "metadata": {},
   "outputs": [
    {
     "name": "stdout",
     "output_type": "stream",
     "text": [
      "red\n",
      "green\n",
      "blue\n"
     ]
    }
   ],
   "source": [
    "for e in [\"red\", \"green\", \"blue\"]:\n",
    "    print(e)"
   ]
  },
  {
   "cell_type": "code",
   "execution_count": 27,
   "metadata": {},
   "outputs": [
    {
     "name": "stdout",
     "output_type": "stream",
     "text": [
      "평균은 82.3이며, 등급은 B입니다.\n"
     ]
    }
   ],
   "source": [
    "korean = int(input(\"국어: \"))\n",
    "math = int(input(\"수학: \"))\n",
    "english = int(input(\"영어: \"))\n",
    "\n",
    "average = (korean+math+english)/3\n",
    "if average>=90:\n",
    "    score = 'A'\n",
    "elif average>=80:\n",
    "    score = 'B'\n",
    "elif average>=70:\n",
    "    score = 'C'\n",
    "elif average>=60:\n",
    "    score = 'D'\n",
    "else:\n",
    "    score = 'F'\n",
    "\n",
    "print(\"평균은 {0:0.1f}이며, 등급은 {1}입니다.\".format(average, score))"
   ]
  },
  {
   "cell_type": "code",
   "execution_count": 9,
   "metadata": {},
   "outputs": [],
   "source": [
    "linenum = int(input(\"Lines: \"))\n",
    "\n",
    "for i in range(0, linenum):\n",
    "    stri = ['0']*linenum\n",
    "    stri[i] = '1'\n",
    "    stri[linenum-i-1] = '1'\n",
    "\n",
    "    for j in stri:\n",
    "        print(j, end=\" \")\n",
    "    print()\n",
    "    "
   ]
  },
  {
   "cell_type": "code",
   "execution_count": 3,
   "metadata": {},
   "outputs": [],
   "source": [
    "def person():\n",
    "    name = input(\"name: \")\n",
    "    num = input(\"number: \")\n",
    "    \n",
    "    profile = {'name':name, 'phone':num}\n",
    "\n",
    "    return profile"
   ]
  },
  {
   "cell_type": "code",
   "execution_count": 4,
   "metadata": {},
   "outputs": [],
   "source": [
    "num = int(input(\"사람 수: \"))\n",
    "\n",
    "peopledict = {}\n",
    "\n",
    "for i in range(0, num):\n",
    "    profile = person()\n",
    "\n",
    "    peopledict[profile.get('name')] = profile"
   ]
  },
  {
   "cell_type": "code",
   "execution_count": 6,
   "metadata": {},
   "outputs": [
    {
     "name": "stdout",
     "output_type": "stream",
     "text": [
      "emma's phone number is 1223\n"
     ]
    }
   ],
   "source": [
    "searchname = input(\"검색할 이름: \")\n",
    "\n",
    "print(\"{}'s phone number is {}\".format(searchname, peopledict.get(searchname).get('phone')))"
   ]
  }
 ],
 "metadata": {
  "kernelspec": {
   "display_name": "Python 3",
   "language": "python",
   "name": "python3"
  },
  "language_info": {
   "codemirror_mode": {
    "name": "ipython",
    "version": 3
   },
   "file_extension": ".py",
   "mimetype": "text/x-python",
   "name": "python",
   "nbconvert_exporter": "python",
   "pygments_lexer": "ipython3",
   "version": "3.10.1"
  },
  "orig_nbformat": 4
 },
 "nbformat": 4,
 "nbformat_minor": 2
}
