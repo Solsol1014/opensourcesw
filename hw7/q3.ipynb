{
 "cells": [
  {
   "cell_type": "code",
   "execution_count": 1,
   "metadata": {},
   "outputs": [],
   "source": [
    "import pandas as pd\n",
    "import numpy as np"
   ]
  },
  {
   "cell_type": "code",
   "execution_count": 2,
   "metadata": {},
   "outputs": [
    {
     "name": "stdout",
     "output_type": "stream",
     "text": [
      "        unit price  number\n",
      "store1        1000      25\n",
      "store2         280     120\n",
      "store3         900      30\n"
     ]
    }
   ],
   "source": [
    "inputdata = pd.DataFrame(np.array([[1000, 25], [280, 120], [900, 30]]), index=('store1', 'store2', 'store3'), columns=('unit price', 'number'))\n",
    "print(inputdata)"
   ]
  },
  {
   "cell_type": "code",
   "execution_count": 21,
   "metadata": {},
   "outputs": [
    {
     "name": "stdout",
     "output_type": "stream",
     "text": [
      "        unit price  number  total price\n",
      "store1        1000      25        25000\n",
      "store2         280     120        33600\n",
      "store3         900      30        27000\n"
     ]
    }
   ],
   "source": [
    "inputdata['total price'] = inputdata['unit price']*inputdata['number']\n",
    "print(inputdata)"
   ]
  },
  {
   "cell_type": "code",
   "execution_count": 28,
   "metadata": {},
   "outputs": [
    {
     "name": "stdout",
     "output_type": "stream",
     "text": [
      "1 : store2 - 33600\n",
      "2 : store3 - 27000\n"
     ]
    }
   ],
   "source": [
    "total = list(inputdata['total price'].to_numpy())\n",
    "total.sort()\n",
    "total.reverse()\n",
    "for i in range(2):\n",
    "    print(\"{} : {} - {}\".format(i+1, inputdata[inputdata['total price']==total[i]].index[0], total[i]))"
   ]
  }
 ],
 "metadata": {
  "kernelspec": {
   "display_name": "Python 3",
   "language": "python",
   "name": "python3"
  },
  "language_info": {
   "codemirror_mode": {
    "name": "ipython",
    "version": 3
   },
   "file_extension": ".py",
   "mimetype": "text/x-python",
   "name": "python",
   "nbconvert_exporter": "python",
   "pygments_lexer": "ipython3",
   "version": "3.11.3"
  },
  "orig_nbformat": 4
 },
 "nbformat": 4,
 "nbformat_minor": 2
}
