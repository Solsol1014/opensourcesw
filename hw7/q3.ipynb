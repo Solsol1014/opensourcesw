{
 "cells": [
  {
   "cell_type": "code",
   "execution_count": 1,
   "metadata": {},
   "outputs": [],
   "source": [
    "import pandas as pd\n",
    "import numpy as np"
   ]
  },
  {
   "cell_type": "code",
   "execution_count": 9,
   "metadata": {},
   "outputs": [],
   "source": [
    "def q1():\n",
    "    inputdata = pd.DataFrame(np.array([[1000, 25], [280, 120], [900, 30]]), index=('store1', 'store2', 'store3'), columns=('unit price', 'number'))\n",
    "    print(inputdata, '\\n')\n",
    "    return inputdata"
   ]
  },
  {
   "cell_type": "code",
   "execution_count": 10,
   "metadata": {},
   "outputs": [],
   "source": [
    "def q2(inputdata):\n",
    "    inputdata['total price'] = inputdata['unit price']*inputdata['number']\n",
    "    print(inputdata, '\\n')"
   ]
  },
  {
   "cell_type": "code",
   "execution_count": 4,
   "metadata": {},
   "outputs": [],
   "source": [
    "def q3(inputdata):\n",
    "    total = list(inputdata['total price'].to_numpy())\n",
    "    total.sort()\n",
    "    total.reverse()\n",
    "    for i in range(2):\n",
    "        print(\"{} : {} - {}\".format(i+1, inputdata[inputdata['total price']==total[i]].index[0], total[i]))"
   ]
  },
  {
   "cell_type": "code",
   "execution_count": 11,
   "metadata": {},
   "outputs": [],
   "source": [
    "def main():\n",
    "    inputdata = q1()\n",
    "    q2(inputdata)\n",
    "    q3(inputdata)"
   ]
  },
  {
   "cell_type": "code",
   "execution_count": 12,
   "metadata": {},
   "outputs": [
    {
     "name": "stdout",
     "output_type": "stream",
     "text": [
      "        unit price  number\n",
      "store1        1000      25\n",
      "store2         280     120\n",
      "store3         900      30 \n",
      "\n",
      "        unit price  number  total price\n",
      "store1        1000      25        25000\n",
      "store2         280     120        33600\n",
      "store3         900      30        27000 \n",
      "\n",
      "1 : store2 - 33600\n",
      "2 : store3 - 27000\n"
     ]
    }
   ],
   "source": [
    "if __name__=='__main__':\n",
    "    main()"
   ]
  }
 ],
 "metadata": {
  "kernelspec": {
   "display_name": "Python 3",
   "language": "python",
   "name": "python3"
  },
  "language_info": {
   "codemirror_mode": {
    "name": "ipython",
    "version": 3
   },
   "file_extension": ".py",
   "mimetype": "text/x-python",
   "name": "python",
   "nbconvert_exporter": "python",
   "pygments_lexer": "ipython3",
   "version": "3.11.3"
  },
  "orig_nbformat": 4
 },
 "nbformat": 4,
 "nbformat_minor": 2
}
