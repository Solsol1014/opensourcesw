{
 "cells": [
  {
   "cell_type": "code",
   "execution_count": 2,
   "metadata": {},
   "outputs": [],
   "source": [
    "import numpy as np"
   ]
  },
  {
   "cell_type": "code",
   "execution_count": 7,
   "metadata": {},
   "outputs": [],
   "source": [
    "def q1(a):\n",
    "    eigenvalues, eigenvectors = np.linalg.eig(a)\n",
    "    determinant = np.linalg.det(a)\n",
    "    print('Eigenvalues:', eigenvalues[0], ',', eigenvalues[1])\n",
    "    print('Eigenvectors:', eigenvectors[0], ',', eigenvectors[1])"
   ]
  },
  {
   "cell_type": "code",
   "execution_count": 4,
   "metadata": {},
   "outputs": [],
   "source": [
    "def q2(v1, v2):\n",
    "    cross = np.cross(v1, v2)\n",
    "    print('Cross product:', cross)"
   ]
  },
  {
   "cell_type": "code",
   "execution_count": 5,
   "metadata": {},
   "outputs": [],
   "source": [
    "def q3(A, b):\n",
    "    x = np.linalg.solve(A, b)\n",
    "    print('Solution:', x)"
   ]
  },
  {
   "cell_type": "code",
   "execution_count": 9,
   "metadata": {},
   "outputs": [],
   "source": [
    "def main():\n",
    "    a = np.reshape(np.arange(1, 5), (2, 2))\n",
    "    v1 = np.arange(1, 4)\n",
    "    v2 = np.arange(4, 7)\n",
    "    A = np.array([[1, 2, -2], [2, 1, -5], [1, -4, 1]])\n",
    "    b = np.array([-15, -21, 18])\n",
    "    q1(a)\n",
    "    q2(v1, v2)\n",
    "    q3(A, b)"
   ]
  },
  {
   "cell_type": "code",
   "execution_count": 10,
   "metadata": {},
   "outputs": [
    {
     "name": "stdout",
     "output_type": "stream",
     "text": [
      "Eigenvalues: -0.3722813232690143 , 5.372281323269014\n",
      "Eigenvectors: [-0.82456484 -0.41597356] , [ 0.56576746 -0.90937671]\n",
      "Cross product: [-3  6 -3]\n",
      "Solution: [-1. -4.  3.]\n"
     ]
    }
   ],
   "source": [
    "if __name__=='__main__':\n",
    "    main()"
   ]
  }
 ],
 "metadata": {
  "kernelspec": {
   "display_name": "Python 3",
   "language": "python",
   "name": "python3"
  },
  "language_info": {
   "codemirror_mode": {
    "name": "ipython",
    "version": 3
   },
   "file_extension": ".py",
   "mimetype": "text/x-python",
   "name": "python",
   "nbconvert_exporter": "python",
   "pygments_lexer": "ipython3",
   "version": "3.11.3"
  },
  "orig_nbformat": 4
 },
 "nbformat": 4,
 "nbformat_minor": 2
}
