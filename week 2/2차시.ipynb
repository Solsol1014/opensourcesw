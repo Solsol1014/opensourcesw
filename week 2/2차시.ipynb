{
 "cells": [
  {
   "cell_type": "code",
   "execution_count": 4,
   "metadata": {},
   "outputs": [
    {
     "name": "stdout",
     "output_type": "stream",
     "text": [
      "[5, 4, 3, 2, 1] ['ghi', 'def', 'abc']\n"
     ]
    }
   ],
   "source": [
    "nums = [1, 2, 3, 4, 5]\n",
    "strs = ['abc', 'def', 'ghi']\n",
    "\n",
    "nums.reverse()\n",
    "strs.reverse()\n",
    "\n",
    "print(nums, strs)"
   ]
  },
  {
   "cell_type": "code",
   "execution_count": 8,
   "metadata": {},
   "outputs": [
    {
     "name": "stdout",
     "output_type": "stream",
     "text": [
      "(7, 36)\n"
     ]
    }
   ],
   "source": [
    "def hm(mins):\n",
    "    hour = mins//60\n",
    "    min = mins%60\n",
    "\n",
    "    return hour, min\n",
    "\n",
    "print(hm(456))"
   ]
  },
  {
   "cell_type": "code",
   "execution_count": 12,
   "metadata": {},
   "outputs": [
    {
     "name": "stdout",
     "output_type": "stream",
     "text": [
      "2.8\n"
     ]
    }
   ],
   "source": [
    "score = {\"홍길동\":3.4, \"임꺽정\":4.0, \"김철수\":2.8, \"이영희\":3.9}\n",
    "\n",
    "name = list(score.keys())\n",
    "\n",
    "name.sort()\n",
    "\n",
    "print(score.get(name[0]))"
   ]
  }
 ],
 "metadata": {
  "kernelspec": {
   "display_name": "Python 3.10.5 64-bit",
   "language": "python",
   "name": "python3"
  },
  "language_info": {
   "codemirror_mode": {
    "name": "ipython",
    "version": 3
   },
   "file_extension": ".py",
   "mimetype": "text/x-python",
   "name": "python",
   "nbconvert_exporter": "python",
   "pygments_lexer": "ipython3",
   "version": "3.10.5"
  },
  "orig_nbformat": 4,
  "vscode": {
   "interpreter": {
    "hash": "78f5b707d86fd9281530b9fa2dbdbe1b33232c3b651a8e052360c651d4996094"
   }
  }
 },
 "nbformat": 4,
 "nbformat_minor": 2
}
