{
 "cells": [
  {
   "attachments": {},
   "cell_type": "markdown",
   "metadata": {},
   "source": [
    "Question 1"
   ]
  },
  {
   "cell_type": "code",
   "execution_count": 16,
   "metadata": {},
   "outputs": [
    {
     "name": "stdout",
     "output_type": "stream",
     "text": [
      "죽는 날까지 하늘을 우러러\n",
      "한 점 부끄럼이 없기를,\n",
      "잎새에 이는 바람에도\n",
      "너는 괴로워했다.\n",
      "별을 노래하는 마음으로\n",
      "모든 죽어가는 것을 사랑해야지\n",
      "그리고 너한테 주어진 길을\n",
      "걸어가야겠다.\n",
      "오늘 밤에도 별이 바람에 스치운다.\n"
     ]
    }
   ],
   "source": [
    "#Question 1\n",
    "s = ''' 죽는 날까지 하늘을 우러러\n",
    "한 점 부끄럼이 없기를,\n",
    "잎새에 이는 바람에도\n",
    "나는 괴로워했다.\n",
    "별을 노래하는 마음으로\n",
    "모든 죽어가는 것을 사랑해야지\n",
    "그리고 나한테 주어진 길을\n",
    "걸어가야겠다.\n",
    "오늘 밤에도 별이 바람에 스치운다.'''\n",
    "\n",
    "a = s.strip()\n",
    "a = a.replace('나', '너')\n",
    "\n",
    "print(a)\n"
   ]
  },
  {
   "attachments": {},
   "cell_type": "markdown",
   "metadata": {},
   "source": [
    "Question 2"
   ]
  },
  {
   "cell_type": "code",
   "execution_count": 10,
   "metadata": {},
   "outputs": [
    {
     "name": "stdout",
     "output_type": "stream",
     "text": [
      "[123, 234, 34, 83, 384, 12]\n",
      "384\n"
     ]
    }
   ],
   "source": [
    "#Question 2\n",
    "numbers = input(\"Numbers? \")\n",
    "\n",
    "numstrlist = numbers.split(\" \")\n",
    "numlist = []\n",
    "\n",
    "#print(numstrlist)\n",
    "\n",
    "for i in numstrlist:\n",
    "    if i.isdigit():\n",
    "        numlist.append(int(i))\n",
    "    else:\n",
    "        print('{} is not a number.'.format(i))\n",
    "\n",
    "print(numlist)\n",
    "\n",
    "a = numlist[0]\n",
    "for i in numlist:\n",
    "    if i>a:\n",
    "        a = i\n",
    "\n",
    "print(a)"
   ]
  },
  {
   "attachments": {},
   "cell_type": "markdown",
   "metadata": {},
   "source": [
    "Question 3"
   ]
  },
  {
   "cell_type": "code",
   "execution_count": 3,
   "metadata": {},
   "outputs": [],
   "source": [
    "#Question 3\n",
    "def encode(str, key):\n",
    "    passlist = str.split()\n",
    "    #print(passlist)\n",
    "\n",
    "    passlist.reverse()\n",
    "    #print(passlist)\n",
    "\n",
    "    asciilist = []\n",
    "    for i in passlist:\n",
    "        asciilist.append(list(i))\n",
    "\n",
    "    for i in asciilist:\n",
    "        for j in range(0, len(i)):\n",
    "            i[j] = chr(ord(i[j])+key)\n",
    "\n",
    "    #print(asciilist)\n",
    "    \n",
    "    encodelist = []\n",
    "    for i in asciilist:\n",
    "        encodelist.append(''.join(i))\n",
    "    \n",
    "    strs = '!'.join(encodelist)\n",
    "    \n",
    "    return strs"
   ]
  },
  {
   "cell_type": "code",
   "execution_count": 5,
   "metadata": {},
   "outputs": [],
   "source": [
    "#Question 3\n",
    "def decode(str, key):\n",
    "    passlist = str.split('!')\n",
    "    #print(passlist)\n",
    "\n",
    "    passlist.reverse()\n",
    "    #print(passlist)\n",
    "\n",
    "    asciilist = []\n",
    "    for i in passlist:\n",
    "        asciilist.append(list(i))\n",
    "\n",
    "    for i in asciilist:\n",
    "        for j in range(0, len(i)):\n",
    "            i[j] = chr(ord(i[j])-key)\n",
    "\n",
    "    #print(asciilist)\n",
    "\n",
    "    decodelist = []\n",
    "    for i in asciilist:\n",
    "        decodelist.append(''.join(i))\n",
    "    \n",
    "    strs = ' '.join(decodelist)\n",
    "    \n",
    "    return strs"
   ]
  },
  {
   "cell_type": "code",
   "execution_count": 6,
   "metadata": {},
   "outputs": [
    {
     "name": "stdout",
     "output_type": "stream",
     "text": [
      "sdfj wiejf dj opensourcesw\n",
      "pqfotpvsdftx!ek!xjfkg!tegk\n"
     ]
    }
   ],
   "source": [
    "#Question 3\n",
    "key = 1\n",
    "\n",
    "password = input(\"Password? \")\n",
    "print(password)\n",
    "\n",
    "encodedstr = encode(password, key)\n",
    "print(encodedstr)"
   ]
  },
  {
   "cell_type": "code",
   "execution_count": 7,
   "metadata": {},
   "outputs": [
    {
     "name": "stdout",
     "output_type": "stream",
     "text": [
      "sdfj wiejf dj opensourcesw\n"
     ]
    }
   ],
   "source": [
    "decodedstr = decode(encodedstr, key)\n",
    "print(decodedstr)"
   ]
  }
 ],
 "metadata": {
  "kernelspec": {
   "display_name": "Python 3.10.5 64-bit",
   "language": "python",
   "name": "python3"
  },
  "language_info": {
   "codemirror_mode": {
    "name": "ipython",
    "version": 3
   },
   "file_extension": ".py",
   "mimetype": "text/x-python",
   "name": "python",
   "nbconvert_exporter": "python",
   "pygments_lexer": "ipython3",
   "version": "3.10.1"
  },
  "orig_nbformat": 4,
  "vscode": {
   "interpreter": {
    "hash": "78f5b707d86fd9281530b9fa2dbdbe1b33232c3b651a8e052360c651d4996094"
   }
  }
 },
 "nbformat": 4,
 "nbformat_minor": 2
}
