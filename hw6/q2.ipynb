{
 "cells": [
  {
   "cell_type": "code",
   "execution_count": 3,
   "metadata": {},
   "outputs": [],
   "source": [
    "import random\n",
    "import csv\n",
    "import matplotlib.pyplot as plt\n",
    "import numpy as np"
   ]
  },
  {
   "cell_type": "code",
   "execution_count": 4,
   "metadata": {},
   "outputs": [],
   "source": [
    "def writerand():\n",
    "    f = open('rands.csv', 'w')\n",
    "\n",
    "    f.write('100\\n')\n",
    "    for i in range(100):\n",
    "        data = str(random.randrange(1, 7))+'\\n'\n",
    "        f.write(data)\n",
    "\n",
    "    f.write('1000\\n')\n",
    "    for i in range(1000):\n",
    "        data = str(random.randrange(1, 7))+'\\n'\n",
    "        f.write(data)\n",
    "\n",
    "    f.write('10000\\n')\n",
    "    for i in range(10000):\n",
    "        data = str(random.randrange(1, 7))+'\\n'\n",
    "        f.write(data)\n",
    "\n",
    "    f.write('100000\\n')\n",
    "    for i in range(100000):\n",
    "        data = str(random.randrange(1, 7))+'\\n'\n",
    "        f.write(data)\n",
    "\n",
    "    f.write(\"1000000\\n\")\n",
    "    f.close()"
   ]
  },
  {
   "cell_type": "code",
   "execution_count": 9,
   "metadata": {},
   "outputs": [],
   "source": [
    "def showgraph():\n",
    "    f = open('rands.csv', 'r')\n",
    "\n",
    "    data = csv.reader(f)\n",
    "\n",
    "    w = 0.6\n",
    "    j = 0\n",
    "    y = {1:0, 2:0, 3:0, 4:0, 5:0, 6:0}\n",
    "\n",
    "    for row in data:\n",
    "        if float(row[0])>6:\n",
    "            if j!=0:\n",
    "                plt.bar(np.array(list(y.keys()))-w+0.1, np.array(list(y.values()))/j, label=int(j), width=0.2)\n",
    "                if float(row[0])==1000000:\n",
    "                    plt.axhline(y[6]/j, 0, 7, color='lightgray', linestyle='--')\n",
    "\n",
    "            j = float(row[0])\n",
    "            w -= 0.2\n",
    "            y = {1:0, 2:0, 3:0, 4:0, 5:0, 6:0}\n",
    "            continue\n",
    "        \n",
    "        y[float(row[0])] += 1\n",
    "\n",
    "    f.close()\n",
    "    plt.title('Probability of Dice Simulation')\n",
    "    plt.legend()\n",
    "    plt.show()"
   ]
  },
  {
   "cell_type": "code",
   "execution_count": 10,
   "metadata": {},
   "outputs": [],
   "source": [
    "def main():\n",
    "    writerand()\n",
    "    showgraph()"
   ]
  },
  {
   "cell_type": "code",
   "execution_count": 14,
   "metadata": {},
   "outputs": [
    {
     "data": {
      "image/png": "[encoded data removed]",
      "text/plain": [
       "<Figure size 640x480 with 1 Axes>"
      ]
     },
     "metadata": {},
     "output_type": "display_data"
    }
   ],
   "source": [
    "if __name__=='__main__':\n",
    "    main()"
   ]
  }
 ],
 "metadata": {
  "kernelspec": {
   "display_name": "Python 3",
   "language": "python",
   "name": "python3"
  },
  "language_info": {
   "codemirror_mode": {
    "name": "ipython",
    "version": 3
   },
   "file_extension": ".py",
   "mimetype": "text/x-python",
   "name": "python",
   "nbconvert_exporter": "python",
   "pygments_lexer": "ipython3",
   "version": "3.11.2"
  },
  "orig_nbformat": 4
 },
 "nbformat": 4,
 "nbformat_minor": 2
}
