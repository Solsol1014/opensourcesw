{
 "cells": [
  {
   "cell_type": "code",
   "execution_count": 24,
   "metadata": {},
   "outputs": [],
   "source": [
    "def factorial(i):\n",
    "    if i<0:\n",
    "        print(\"Error, arg is under 0. Error will be returned as 0.\")\n",
    "        return 0\n",
    "    elif i==0:\n",
    "        return 1\n",
    "    else:\n",
    "        return i*factorial(i-1)"
   ]
  },
  {
   "cell_type": "code",
   "execution_count": 25,
   "metadata": {},
   "outputs": [],
   "source": [
    "def main():\n",
    "    print(\"-1:\", factorial(-1))\n",
    "    print(\"0:\", factorial(0))\n",
    "    print(\"2:\", factorial(2))\n",
    "    print(\"4:\", factorial(4))\n",
    "    print(\"6:\", factorial(6))\n",
    "    print(\"8:\", factorial(8))\n",
    "    print(\"10:\", factorial(10))\n",
    "    print(\"12:\", factorial(12))\n",
    "    print(\"14:\", factorial(14))"
   ]
  },
  {
   "cell_type": "code",
   "execution_count": 26,
   "metadata": {},
   "outputs": [
    {
     "name": "stdout",
     "output_type": "stream",
     "text": [
      "Error, arg is under 0. Error will be returned as 0.\n",
      "-1: 0\n",
      "0: 1\n",
      "2: 2\n",
      "4: 24\n",
      "6: 720\n",
      "8: 40320\n",
      "10: 3628800\n",
      "12: 479001600\n",
      "14: 87178291200\n"
     ]
    }
   ],
   "source": [
    "if __name__=='__main__':\n",
    "    main()"
   ]
  }
 ],
 "metadata": {
  "kernelspec": {
   "display_name": "Python 3",
   "language": "python",
   "name": "python3"
  },
  "language_info": {
   "codemirror_mode": {
    "name": "ipython",
    "version": 3
   },
   "file_extension": ".py",
   "mimetype": "text/x-python",
   "name": "python",
   "nbconvert_exporter": "python",
   "pygments_lexer": "ipython3",
   "version": "3.10.1"
  },
  "orig_nbformat": 4,
  "vscode": {
   "interpreter": {
    "hash": "44a9cdcbdccbf05a880e90d2e6fe72470baab4d1b82472d890be0596ed887a6b"
   }
  }
 },
 "nbformat": 4,
 "nbformat_minor": 2
}
